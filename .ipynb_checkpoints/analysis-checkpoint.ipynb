{
 "cells": [
  {
   "cell_type": "code",
   "execution_count": null,
   "id": "c11155a4",
   "metadata": {},
   "outputs": [],
   "source": [
    "#data from other script\n",
    "\n",
    "o1 = \n",
    "\n",
    "\n",
    "\n",
    "\n",
    "\n",
    "\n",
    "\n",
    "o2 =\n",
    "\n",
    "\n",
    "\n",
    "\n",
    "\n",
    "\n",
    "\n",
    "o3 =\n",
    "\n",
    "\n",
    "\n",
    "\n",
    "## replacing MES\n",
    "\n",
    "\n",
    "\n",
    "result_list = [o1, o2, o3]"
   ]
  },
  {
   "cell_type": "code",
   "execution_count": null,
   "id": "9b5b011a",
   "metadata": {},
   "outputs": [],
   "source": [
    "##running the sorts on the result list\n",
    "\n",
    "\n"
   ]
  },
  {
   "cell_type": "code",
   "execution_count": null,
   "id": "457b4eea",
   "metadata": {},
   "outputs": [],
   "source": [
    "##plots\n",
    "\n",
    "\n",
    "\n"
   ]
  }
 ],
 "metadata": {
  "kernelspec": {
   "display_name": "Python 3 (ipykernel)",
   "language": "python",
   "name": "python3"
  },
  "language_info": {
   "codemirror_mode": {
    "name": "ipython",
    "version": 3
   },
   "file_extension": ".py",
   "mimetype": "text/x-python",
   "name": "python",
   "nbconvert_exporter": "python",
   "pygments_lexer": "ipython3",
   "version": "3.10.9"
  }
 },
 "nbformat": 4,
 "nbformat_minor": 5
}
